{
  "nbformat": 4,
  "nbformat_minor": 0,
  "metadata": {
    "colab": {
      "name": "100DaysOfCodingPythonDay5.ipynb",
      "provenance": [],
      "authorship_tag": "ABX9TyPjHMZ/UNSOytYE4q9vOvrj",
      "include_colab_link": true
    },
    "kernelspec": {
      "name": "python3",
      "display_name": "Python 3"
    },
    "language_info": {
      "name": "python"
    }
  },
  "cells": [
    {
      "cell_type": "markdown",
      "metadata": {
        "id": "view-in-github",
        "colab_type": "text"
      },
      "source": [
        "<a href=\"https://colab.research.google.com/github/ChidimmaTech/Python-Challenges-and-Projects/blob/main/100DaysOfCodingPythonDay5.ipynb\" target=\"_parent\"><img src=\"https://colab.research.google.com/assets/colab-badge.svg\" alt=\"Open In Colab\"/></a>"
      ]
    },
    {
      "cell_type": "markdown",
      "source": [
        "**For Loop**\n",
        "\n",
        "Example"
      ],
      "metadata": {
        "id": "oLtZchAaM0mZ"
      }
    },
    {
      "cell_type": "code",
      "execution_count": null,
      "metadata": {
        "id": "K2mSqDIGMwB6"
      },
      "outputs": [],
      "source": [
        "fruits = [\"apple\", \"pear\", \"guava\", \"mango\", \"kiwi\"]\n",
        "for fruit in fruits:\n",
        "  print(fruit)"
      ]
    },
    {
      "cell_type": "markdown",
      "source": [
        "You are going to write a program that calculates the average student height from a List of heights using for loops.\n"
      ],
      "metadata": {
        "id": "t9V05o9XOo4B"
      }
    },
    {
      "cell_type": "code",
      "source": [
        "#list of student's heights\n",
        "student_heights = [180, 124, 165, 173, 189, 169, 146]\n",
        "average_height =  round(sum(student_heights) / len(student_heights))\n",
        "print(average_height)"
      ],
      "metadata": {
        "id": "e2NhlbYBOuhI"
      },
      "execution_count": null,
      "outputs": []
    },
    {
      "cell_type": "markdown",
      "source": [
        "Second method"
      ],
      "metadata": {
        "id": "t43bu4zBUydw"
      }
    },
    {
      "cell_type": "code",
      "source": [
        "#user to input list of heights\n",
        "student_heights = input(\"Input a list of student heights \").split()\n",
        "for n in range(0, len(student_heights)):\n",
        "  student_heights[n] = int(student_heights[n])\n",
        "\n",
        "#calculating total heights of students\n",
        "total_height = 0\n",
        "for n in student_heights:\n",
        "  total_height += n\n",
        "print('Your total height is', total_height)\n",
        "\n",
        "#calculating number of students\n",
        "no_of_students = 0\n",
        "for students in student_heights:\n",
        "  no_of_students += 1\n",
        "print('number of students are=', no_of_students)\n",
        "\n",
        "#calculating the average height of students\n",
        "average_height = round(total_height / no_of_students)\n",
        "print(average_height)\n",
        "\n",
        "\n"
      ],
      "metadata": {
        "id": "ASsTHdfJVa89"
      },
      "execution_count": null,
      "outputs": []
    },
    {
      "cell_type": "markdown",
      "source": [
        "You are going to write a program that calculates the highest score from a List of scores."
      ],
      "metadata": {
        "id": "53O4U3xA_hAW"
      }
    },
    {
      "cell_type": "code",
      "source": [
        "heights = [100, 2, 300, 10, 11, 1000]\n",
        "largest_number = heights[0]\n",
        "for number in heights:\n",
        "    if number > largest_number:\n",
        "        largest_number = number\n",
        "print(largest_number)"
      ],
      "metadata": {
        "id": "Hf18_iE_gPAa"
      },
      "execution_count": null,
      "outputs": []
    },
    {
      "cell_type": "markdown",
      "source": [
        "You are going to write a program that calculates the sum of all the even numbers from 1 to 100. Thus, the first even number would be 2 and the last one is 100:\n",
        "\n",
        "i.e. 2 + 4 + 6 + 8 +10 ... + 98 + 100\n"
      ],
      "metadata": {
        "id": "k8UqY19H7-Fn"
      }
    },
    {
      "cell_type": "code",
      "source": [
        "even_sum = 0\n",
        "for n in range(2, 102, 2):\n",
        "  even_sum += n\n",
        "print(even_sum)"
      ],
      "metadata": {
        "id": "ZrvWzd3p8Can"
      },
      "execution_count": null,
      "outputs": []
    },
    {
      "cell_type": "markdown",
      "source": [
        "Fizz Buzz Game"
      ],
      "metadata": {
        "id": "EGst1wHXAjlv"
      }
    },
    {
      "cell_type": "code",
      "source": [
        "#calculating range 1 - 100\n",
        "for num in range(1, 100):\n",
        " \n",
        "\n",
        "  if num % 3 == 0:      #prints fizz if the number is divisible by 3 with no remainder\n",
        "    print('fizz')\n",
        "\n",
        "\n",
        "  elif num % 5 == 0:    #prints buzz if the number is divisible by 3 with no remainder\n",
        "    print('buzz')\n",
        "\n",
        "\n",
        "  elif num % 3 and num % 5 == 0:      #prints fizzbuzz if the number is divisible by both 3 and 5 with no remainder\n",
        "    print('fizzbuzz')\n",
        "\n",
        "  else:       #prints numbers \n",
        "    print(num)\n"
      ],
      "metadata": {
        "id": "ccU2y4hGAmAq"
      },
      "execution_count": null,
      "outputs": []
    },
    {
      "cell_type": "markdown",
      "source": [
        "Password Generator:"
      ],
      "metadata": {
        "id": "cM30tV9nDTtd"
      }
    },
    {
      "cell_type": "code",
      "source": [
        "import string\n",
        "import random\n",
        "generator: list(string.ascii_letters + string.digits + \"!@#$%^&*()\")\n",
        "\n",
        "print('Welcome to your password generator!\\n')\n",
        "length = int(input('Enter the length of password you want:\\n'))\n",
        "'''\n",
        "lower = string.ascii_lowercase\n",
        "upper = string.ascii_uppercase\n",
        "num = string.digits\n",
        "symbols = string.punctuation\n",
        "'''\n",
        "generator = string.ascii_letters + string.digits + \"!@#$%^&*()\"\n",
        "password = \"\".join(random.sample(generator,length))\n",
        "\n",
        "\n",
        "\n",
        "\n",
        "\n",
        "\n",
        "\n",
        "\n",
        "\n",
        "\n",
        "print('Here is your password:', password)\n"
      ],
      "metadata": {
        "id": "na8lLLn-DWAL"
      },
      "execution_count": null,
      "outputs": []
    }
  ]
}